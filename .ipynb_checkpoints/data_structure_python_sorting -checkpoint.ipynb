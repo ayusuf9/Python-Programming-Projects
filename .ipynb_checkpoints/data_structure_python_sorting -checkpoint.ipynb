{
 "cells": [
  {
   "cell_type": "markdown",
   "id": "cabc565d",
   "metadata": {},
   "source": [
    "## Yusuf Abdul - Python Data Structure Project"
   ]
  },
  {
   "cell_type": "markdown",
   "id": "e7bbfc77",
   "metadata": {},
   "source": [
    "### Implementing Bubble Sort"
   ]
  },
  {
   "cell_type": "markdown",
   "id": "a621a708",
   "metadata": {},
   "source": [
    "I will be implementing a bubble sort algorithm below:"
   ]
  },
  {
   "cell_type": "code",
   "execution_count": 1,
   "id": "d968d301",
   "metadata": {},
   "outputs": [],
   "source": [
    "# The time complexity of my algorithm is O(n^2)\n",
    "\n",
    "\n",
    "def bubble_sort(array):\n",
    "    for j in range(len(array)):\n",
    "        for i in range(1, len(array)):\n",
    "            nxt = array[i] # setting the index of the second element..\n",
    "            curr = array[i - 1] # tracking back and setting index of the first element in the list..\n",
    "\n",
    "            if curr <= nxt: # Checking if the first element is less than or equal the second element.. \n",
    "                continue\n",
    "            # Swapping the elements below if the condition above doesnt hold. \n",
    "            array[i] = curr \n",
    "            array[i - 1] = nxt\n",
    "    return array"
   ]
  },
  {
   "cell_type": "markdown",
   "id": "ff0262cc",
   "metadata": {},
   "source": [
    "`Testing the bubble sort algorithm below:`"
   ]
  },
  {
   "cell_type": "code",
   "execution_count": 2,
   "id": "07310fd0",
   "metadata": {},
   "outputs": [],
   "source": [
    "list1 = [5,1,4,2,8]"
   ]
  },
  {
   "cell_type": "code",
   "execution_count": 3,
   "id": "cc68b7ae",
   "metadata": {},
   "outputs": [],
   "source": [
    "list2 = [\"aa\",\"a\",\"a1\",\"bat\",\"baa\",\"ba\",\"b\"]"
   ]
  },
  {
   "cell_type": "code",
   "execution_count": 4,
   "id": "9240cdd9",
   "metadata": {},
   "outputs": [],
   "source": [
    "list3 = [\"5\",\"1\",\"11\",\"3\",\"03\"]"
   ]
  },
  {
   "cell_type": "code",
   "execution_count": 5,
   "id": "5cc1e213",
   "metadata": {},
   "outputs": [],
   "source": [
    "# generating the random lists.\n",
    "import random\n",
    "\n",
    "list4 = []\n",
    "\n",
    "for i in range(0,20):\n",
    "    n = random.randint(0,100)\n",
    "    list4.append(n)"
   ]
  },
  {
   "cell_type": "code",
   "execution_count": 6,
   "id": "25025673",
   "metadata": {},
   "outputs": [
    {
     "name": "stdout",
     "output_type": "stream",
     "text": [
      "[99, 6, 38, 23, 15, 2, 91, 68, 36, 92, 42, 38, 68, 21, 1, 48, 83, 5, 54, 21]\n"
     ]
    },
    {
     "data": {
      "text/plain": [
       "20"
      ]
     },
     "execution_count": 6,
     "metadata": {},
     "output_type": "execute_result"
    }
   ],
   "source": [
    "# verifying \n",
    "print(list4)\n",
    "len(list4) # verifying the lenght."
   ]
  },
  {
   "cell_type": "markdown",
   "id": "c04f4afa",
   "metadata": {},
   "source": [
    "Applying my bubble sort algorithm"
   ]
  },
  {
   "cell_type": "code",
   "execution_count": 7,
   "id": "19aa1d40",
   "metadata": {},
   "outputs": [
    {
     "data": {
      "text/plain": [
       "[1, 2, 4, 5, 8]"
      ]
     },
     "execution_count": 7,
     "metadata": {},
     "output_type": "execute_result"
    }
   ],
   "source": [
    "bubble_sort(list1)"
   ]
  },
  {
   "cell_type": "code",
   "execution_count": 8,
   "id": "db956db6",
   "metadata": {},
   "outputs": [
    {
     "data": {
      "text/plain": [
       "['a', 'a1', 'aa', 'b', 'ba', 'baa', 'bat']"
      ]
     },
     "execution_count": 8,
     "metadata": {},
     "output_type": "execute_result"
    }
   ],
   "source": [
    "bubble_sort(list2)"
   ]
  },
  {
   "cell_type": "code",
   "execution_count": 9,
   "id": "6d7c4500",
   "metadata": {},
   "outputs": [
    {
     "data": {
      "text/plain": [
       "['03', '1', '11', '3', '5']"
      ]
     },
     "execution_count": 9,
     "metadata": {},
     "output_type": "execute_result"
    }
   ],
   "source": [
    "bubble_sort(list3)"
   ]
  },
  {
   "cell_type": "code",
   "execution_count": 10,
   "id": "4fca2555",
   "metadata": {},
   "outputs": [
    {
     "name": "stdout",
     "output_type": "stream",
     "text": [
      "[1, 2, 5, 6, 15, 21, 21, 23, 36, 38, 38, 42, 48, 54, 68, 68, 83, 91, 92, 99]\n"
     ]
    }
   ],
   "source": [
    "print(bubble_sort(list4))"
   ]
  },
  {
   "cell_type": "markdown",
   "id": "34a9b8f1",
   "metadata": {},
   "source": [
    "# `Implementing a binary search algorithm below:`"
   ]
  },
  {
   "cell_type": "markdown",
   "id": "451a20ff",
   "metadata": {},
   "source": []
  },
  {
   "cell_type": "code",
   "execution_count": 11,
   "id": "760a31b8",
   "metadata": {},
   "outputs": [],
   "source": [
    "def binary_search(the_list, key, left_index, right_index):\n",
    "    \n",
    "    if right_index >= left_index:\n",
    "\n",
    "        midpoint = (left_index + right_index) // 2\n",
    "#         print(midpoint)\n",
    "#         print(new_list)\n",
    "    \n",
    "        if key == the_list[midpoint]:\n",
    "            return midpoint\n",
    "    \n",
    "        elif the_list[midpoint] > key:\n",
    "            return binary_search(the_list, key, left_index, midpoint - 1)\n",
    "    \n",
    "        else:\n",
    "            return binary_search(the_list, key, midpoint + 1, right_index)\n",
    "        \n",
    "    else:\n",
    "        return None"
   ]
  },
  {
   "cell_type": "code",
   "execution_count": 12,
   "id": "139cb21d",
   "metadata": {},
   "outputs": [
    {
     "name": "stdout",
     "output_type": "stream",
     "text": [
      "None\n"
     ]
    }
   ],
   "source": [
    "# Testing the binary search algorithm..\n",
    "print(binary_search(list4, 44, 4, 10))"
   ]
  },
  {
   "cell_type": "code",
   "execution_count": 13,
   "id": "b50b100d",
   "metadata": {},
   "outputs": [
    {
     "name": "stdout",
     "output_type": "stream",
     "text": [
      "specify the number of elements: 9\n"
     ]
    }
   ],
   "source": [
    "value = input('specify the number of elements: ')\n",
    "value = int(value)"
   ]
  },
  {
   "cell_type": "code",
   "execution_count": 14,
   "id": "bcdf3a90",
   "metadata": {},
   "outputs": [],
   "source": [
    "import random\n",
    "\n",
    "listb = []\n",
    "\n",
    "for i in range(value):\n",
    "    b = random.randint(0,1000)\n",
    "    listb.append(b)"
   ]
  },
  {
   "cell_type": "code",
   "execution_count": 15,
   "id": "e603b669",
   "metadata": {},
   "outputs": [],
   "source": [
    "listb = bubble_sort(listb)"
   ]
  },
  {
   "cell_type": "code",
   "execution_count": 16,
   "id": "d0d76591",
   "metadata": {},
   "outputs": [
    {
     "data": {
      "text/plain": [
       "[12, 161, 176, 178, 237, 359, 835, 845, 910]"
      ]
     },
     "execution_count": 16,
     "metadata": {},
     "output_type": "execute_result"
    }
   ],
   "source": [
    "#printing out and verifying the sorted list using tht bubble sort algorithm I created.. \n",
    "listb"
   ]
  },
  {
   "cell_type": "code",
   "execution_count": null,
   "id": "8483c40b",
   "metadata": {},
   "outputs": [
    {
     "name": "stdout",
     "output_type": "stream",
     "text": [
      "This is a prompt!: ?\n",
      "[12, 161, 176, 178, 237, 359, 835, 845, 910]\n",
      "This is a prompt!: ?\n",
      "[12, 161, 176, 178, 237, 359, 835, 845, 910]\n",
      "This is a prompt!: 910\n",
      "8\n"
     ]
    }
   ],
   "source": [
    "# Implemeting the final prompt question!.\n",
    "while True:             \n",
    "    prompt = input('This is a prompt!: ')   \n",
    "    if prompt == \"q\":       \n",
    "        break \n",
    "    elif prompt == \"?\":\n",
    "        print(listb)\n",
    "    else:\n",
    "        num_search = int(prompt)\n",
    "        print(binary_search(listb, num_search, 0, len(listb)))"
   ]
  },
  {
   "cell_type": "code",
   "execution_count": null,
   "id": "c9d08e2c",
   "metadata": {},
   "outputs": [],
   "source": []
  }
 ],
 "metadata": {
  "kernelspec": {
   "display_name": "Python 3 (ipykernel)",
   "language": "python",
   "name": "python3"
  },
  "language_info": {
   "codemirror_mode": {
    "name": "ipython",
    "version": 3
   },
   "file_extension": ".py",
   "mimetype": "text/x-python",
   "name": "python",
   "nbconvert_exporter": "python",
   "pygments_lexer": "ipython3",
   "version": "3.9.12"
  }
 },
 "nbformat": 4,
 "nbformat_minor": 5
}
