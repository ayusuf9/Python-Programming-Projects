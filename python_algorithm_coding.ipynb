{
 "cells": [
  {
   "cell_type": "markdown",
   "id": "951b0160",
   "metadata": {},
   "source": [
    "# Python Project by Yusuf Abdul\n",
    "\n",
    "Implementing and creating data structure algorithms from scratch."
   ]
  },
  {
   "cell_type": "markdown",
   "id": "ec26bc08",
   "metadata": {},
   "source": [
    "- Part 1"
   ]
  },
  {
   "cell_type": "code",
   "execution_count": 34,
   "id": "2abc238e",
   "metadata": {},
   "outputs": [],
   "source": [
    "import matplotlib.pyplot as plt\n",
    "import time\n",
    "import warnings\n",
    "warnings.filterwarnings('ignore')\n",
    "\n",
    "# Reading in the top tweets!\n",
    "with open('tweets.txt', 'r') as t:\n",
    "    tweets = t.readlines()"
   ]
  },
  {
   "cell_type": "code",
   "execution_count": 2,
   "id": "be0a2ac3",
   "metadata": {},
   "outputs": [],
   "source": [
    "store_tweet = []\n",
    "\n",
    "for idx, tweet in enumerate(tweets):\n",
    "    tweet = ''.join(e for e in tweet if e.isalnum()).lower()\n",
    "    store_tweet.append(tweet)"
   ]
  },
  {
   "cell_type": "code",
   "execution_count": 3,
   "id": "c74b7f6f",
   "metadata": {},
   "outputs": [],
   "source": [
    "with open('sentiment.txt', 'r') as s:\n",
    "    sentiment = s.readlines()"
   ]
  },
  {
   "cell_type": "code",
   "execution_count": 4,
   "id": "ff00c6ad",
   "metadata": {},
   "outputs": [],
   "source": [
    "store_st = {}\n",
    "\n",
    "for line in sentiment:\n",
    "    key,value = line.split(\"\\t\")\n",
    "    value.replace(\"\\n\", \"\")\n",
    "    store_st[key] = value\n",
    "    \n",
    "new_store = {}\n",
    "\n",
    "for key, value in store_st.items():\n",
    "    value.replace(\"\\n\", \"\")\n",
    "    new_store[key] = int(value)"
   ]
  },
  {
   "cell_type": "code",
   "execution_count": null,
   "id": "5695663a",
   "metadata": {},
   "outputs": [],
   "source": []
  },
  {
   "cell_type": "code",
   "execution_count": 5,
   "id": "c232892c",
   "metadata": {},
   "outputs": [],
   "source": [
    "gh = {}\n",
    "\n",
    "for tweet in store_tweet:\n",
    "    for key, value in new_store.items():\n",
    "\n",
    "        if key in tweet:\n",
    "            gh[tweet] = gh.get(tweet,0) + value\n",
    "    if tweet not in gh:\n",
    "        gh[tweet] = 0"
   ]
  },
  {
   "cell_type": "markdown",
   "id": "844db280",
   "metadata": {},
   "source": [
    "- Part 2"
   ]
  },
  {
   "cell_type": "markdown",
   "id": "212fdbf8",
   "metadata": {},
   "source": [
    "## Strategy 1"
   ]
  },
  {
   "cell_type": "code",
   "execution_count": 6,
   "id": "b77afbd1",
   "metadata": {},
   "outputs": [],
   "source": [
    "def strategy_one(txtfile):\n",
    "\n",
    "    store_tome = []\n",
    "\n",
    "    f = open(txtfile, \"rU\")\n",
    "    for line in f:\n",
    "        for word in line.split():\n",
    "            word = ''.join(filter(str.isalnum, word)).lower()\n",
    "            store_tome.append(word)\n",
    "\n",
    "    tome_analysis = {}\n",
    "\n",
    "    tstart = time.time()\n",
    "    for word in store_tome:\n",
    "        for key, value in new_store.items():\n",
    "\n",
    "            if key == word:\n",
    "                tome_analysis[word] = tome_analysis.get(word,0) + value\n",
    "        if word not in tome_analysis:\n",
    "            tome_analysis[word] = 0\n",
    "    tstop = time.time()\n",
    "    elapsed_time = tstop - tstart\n",
    "\n",
    "    sum_of_score = sum(tome_analysis.values())\n",
    "    lenght = len(store_tome)\n",
    "    normalized_score = sum_of_score / lenght\n",
    "    \n",
    "    return lenght, elapsed_time, normalized_score"
   ]
  },
  {
   "cell_type": "markdown",
   "id": "2c2bb122",
   "metadata": {},
   "source": [
    "Reporting the normalized sentiment scores of all the tomes I have analyzed."
   ]
  },
  {
   "cell_type": "code",
   "execution_count": 7,
   "id": "57ffc5d0",
   "metadata": {},
   "outputs": [
    {
     "data": {
      "text/plain": [
       "(123600, 19.078152894973755, 0.015970873786407765)"
      ]
     },
     "execution_count": 7,
     "metadata": {},
     "output_type": "execute_result"
    }
   ],
   "source": [
    "# The Odyssey\n",
    "strategy_one(\"odyssey.txt\")"
   ]
  },
  {
   "cell_type": "code",
   "execution_count": 8,
   "id": "88e1a0c1",
   "metadata": {},
   "outputs": [
    {
     "data": {
      "text/plain": [
       "(568531, 89.64915728569031, -0.002736878024241422)"
      ]
     },
     "execution_count": 8,
     "metadata": {},
     "output_type": "execute_result"
    }
   ],
   "source": [
    "# Les Misérables\n",
    "strategy_one(\"les-miserables.txt\")"
   ]
  },
  {
   "cell_type": "code",
   "execution_count": 9,
   "id": "75293b28",
   "metadata": {},
   "outputs": [
    {
     "data": {
      "text/plain": [
       "(904061, 146.9924120903015, 0.013945961610997488)"
      ]
     },
     "execution_count": 9,
     "metadata": {},
     "output_type": "execute_result"
    }
   ],
   "source": [
    "# The Complete Works of William Shakespeare\n",
    "strategy_one(\"shakespeare.txt\")"
   ]
  },
  {
   "cell_type": "code",
   "execution_count": 10,
   "id": "d18d2cfb",
   "metadata": {},
   "outputs": [
    {
     "data": {
      "text/plain": [
       "(12763, 2.247492790222168, 0.0036041682989892657)"
      ]
     },
     "execution_count": 10,
     "metadata": {},
     "output_type": "execute_result"
    }
   ],
   "source": [
    "# Alice’s Adventure in Wonderland\n",
    "strategy_one(\"alice.txt\")"
   ]
  },
  {
   "cell_type": "code",
   "execution_count": null,
   "id": "9f69fc61",
   "metadata": {},
   "outputs": [],
   "source": []
  },
  {
   "cell_type": "markdown",
   "id": "f00bda3b",
   "metadata": {},
   "source": [
    "## Strategy 2"
   ]
  },
  {
   "cell_type": "markdown",
   "id": "32e461b5",
   "metadata": {},
   "source": [
    "###### Splitting the list into two in this regard.."
   ]
  },
  {
   "cell_type": "code",
   "execution_count": 11,
   "id": "79111d14",
   "metadata": {},
   "outputs": [
    {
     "name": "stdout",
     "output_type": "stream",
     "text": [
      "the list are equal\n"
     ]
    }
   ],
   "source": [
    "first_list = new_store.keys()\n",
    "sec_list = new_store.values()\n",
    "\n",
    "flist = []\n",
    "slist = []\n",
    "\n",
    "for i in first_list:\n",
    "    flist.append(i)\n",
    "    \n",
    "for j in sec_list:\n",
    "    slist.append(j)\n",
    "    \n",
    "if len(slist) == len(flist):\n",
    "    print('the list are equal')"
   ]
  },
  {
   "cell_type": "code",
   "execution_count": 12,
   "id": "4c004f75",
   "metadata": {},
   "outputs": [],
   "source": [
    "#implementing a linear search!\n",
    "# For tome[] of tome elements, I will implement a function to search a given word x in tome[] \n",
    "\n",
    "def strategy_two(tfile): \n",
    "\n",
    "    store_t = []\n",
    "\n",
    "    f = open(tfile, \"rU\")\n",
    "    for line in f:\n",
    "        for wordi in line.split():\n",
    "            wordi = ''.join(filter(str.isalnum, wordi)).lower()\n",
    "            store_t.append(wordi)\n",
    "\n",
    "    # compare word in store_tome to word in flist by implementing linear search..\n",
    "    match = {}\n",
    "\n",
    "    tstart = time.time()\n",
    "    for wordz in store_t:\n",
    "        for i, w in enumerate(flist):\n",
    "\n",
    "            if flist[i] == wordz:\n",
    "                match[wordz] = match.get(flist[i],0) + slist[i]\n",
    "        if wordz not in match:\n",
    "            match[wordz] = 0\n",
    "    tstop = time.time()\n",
    "    e_time = tstop - tstart\n",
    "\n",
    "    sum_score = sum(match.values())\n",
    "    lengt = len(store_t)\n",
    "    norm_score = sum_score / lengt\n",
    "    return lengt, e_time, norm_score"
   ]
  },
  {
   "cell_type": "markdown",
   "id": "96391f3e",
   "metadata": {},
   "source": [
    "Reporting the normalized sentiment scores of all the tomes I have analyzed."
   ]
  },
  {
   "cell_type": "code",
   "execution_count": 13,
   "id": "56b3b2b3",
   "metadata": {},
   "outputs": [
    {
     "data": {
      "text/plain": [
       "(123600, 35.62831377983093, 0.015970873786407765)"
      ]
     },
     "execution_count": 13,
     "metadata": {},
     "output_type": "execute_result"
    }
   ],
   "source": [
    "# The Odyssey\n",
    "strategy_two(\"odyssey.txt\")"
   ]
  },
  {
   "cell_type": "code",
   "execution_count": 14,
   "id": "0fb551a9",
   "metadata": {},
   "outputs": [
    {
     "data": {
      "text/plain": [
       "(568531, 165.07108783721924, -0.002736878024241422)"
      ]
     },
     "execution_count": 14,
     "metadata": {},
     "output_type": "execute_result"
    }
   ],
   "source": [
    "# Les Misérables\n",
    "strategy_two(\"les-miserables.txt\")"
   ]
  },
  {
   "cell_type": "code",
   "execution_count": 15,
   "id": "345e2244",
   "metadata": {},
   "outputs": [
    {
     "data": {
      "text/plain": [
       "(904061, 280.0506522655487, 0.013945961610997488)"
      ]
     },
     "execution_count": 15,
     "metadata": {},
     "output_type": "execute_result"
    }
   ],
   "source": [
    "# The Complete Works of William Shakespeare\n",
    "strategy_two(\"shakespeare.txt\")"
   ]
  },
  {
   "cell_type": "code",
   "execution_count": 16,
   "id": "e8dae55e",
   "metadata": {},
   "outputs": [
    {
     "data": {
      "text/plain": [
       "(12763, 3.5602619647979736, 0.0036041682989892657)"
      ]
     },
     "execution_count": 16,
     "metadata": {},
     "output_type": "execute_result"
    }
   ],
   "source": [
    "# Alice’s Adventure in Wonderland\n",
    "strategy_two(\"alice.txt\")"
   ]
  },
  {
   "cell_type": "code",
   "execution_count": null,
   "id": "2cfa953d",
   "metadata": {},
   "outputs": [],
   "source": []
  },
  {
   "cell_type": "markdown",
   "id": "83c83857",
   "metadata": {},
   "source": [
    "## Strategy 3"
   ]
  },
  {
   "cell_type": "code",
   "execution_count": 17,
   "id": "503f6e3b",
   "metadata": {},
   "outputs": [],
   "source": [
    "def strategy_three(bfile):\n",
    "    store_binary = []\n",
    "\n",
    "    b = open(bfile, \"rU\")\n",
    "    for l in b:\n",
    "        for wordb in l.split():\n",
    "            wordb = ''.join(filter(str.isalnum, wordb)).lower()\n",
    "            store_binary.append(wordb)\n",
    "\n",
    "    # Sorting the list for our binary search implementation\n",
    "\n",
    "    for i in range(0, len(store_binary)):    \n",
    "        for j in range(i+1, len(store_binary)):    \n",
    "            if(store_binary[i] > store_binary[j]):    \n",
    "                temp = store_binary[i];    \n",
    "                store_binary[i] = store_binary[j];    \n",
    "                store_binary[j] = temp;\n",
    "\n",
    "    match_binary = {} \n",
    "\n",
    "    tstart = time.time()\n",
    "    \n",
    "    # Binary search implementation..\n",
    "    \n",
    "    for keyword in store_binary:\n",
    "        for l, m in enumerate(flist):\n",
    "            left_idx, right_idx = 0, len(keyword)\n",
    "            while right_idx > left_idx:\n",
    "                middle_idx = (left_idx + right_idx) // 2\n",
    "                if store_binary[middle_idx] > keyword:\n",
    "                    right_idx = middle_idx\n",
    "                elif store_binary[middle_idx] < keyword:\n",
    "                    left_idx = middle_idx + 1\n",
    "                else:\n",
    "                    match_binary[keyword] = match_binary.get(flist[l],0) + slist[l]\n",
    "    tstop = time.time()\n",
    "    e_time = tstop - tstart\n",
    "\n",
    "    bi_score = sum(match_binary.values())\n",
    "    lenb = len(store_binary)\n",
    "    b_score = bi_score / lenb\n",
    "    return lenb, e_time, bi_score"
   ]
  },
  {
   "cell_type": "markdown",
   "id": "bb451466",
   "metadata": {},
   "source": [
    "Reporting the normalized sentiment scores of all the tomes I have analyzed."
   ]
  },
  {
   "cell_type": "code",
   "execution_count": 20,
   "id": "33793de5",
   "metadata": {},
   "outputs": [],
   "source": [
    "# The Odyssey\n",
    "strategy_three(\"odyssey.txt\")"
   ]
  },
  {
   "cell_type": "code",
   "execution_count": 21,
   "id": "5e1e25a7",
   "metadata": {},
   "outputs": [],
   "source": [
    "# The Odyssey\n",
    "strategy_three(\"les-miserables.txt\")"
   ]
  },
  {
   "cell_type": "code",
   "execution_count": 22,
   "id": "a4508427",
   "metadata": {},
   "outputs": [],
   "source": [
    "# The Odyssey\n",
    "strategy_three(\"shakespeare.txt\")"
   ]
  },
  {
   "cell_type": "code",
   "execution_count": 23,
   "id": "b6db2c1c",
   "metadata": {},
   "outputs": [],
   "source": [
    "# The Odyssey\n",
    "strategy_three(\"alice.txt\")"
   ]
  },
  {
   "cell_type": "code",
   "execution_count": 47,
   "id": "3e4171e8",
   "metadata": {},
   "outputs": [
    {
     "data": {
      "image/png": "[encoded data removed]",
      "text/plain": [
       "<Figure size 360x288 with 1 Axes>"
      ]
     },
     "metadata": {
      "needs_background": "light"
     },
     "output_type": "display_data"
    }
   ],
   "source": [
    "runtime_s1 = [2.24, 19.07, 89.6, 146.99]\n",
    "size_s1 = [12763, 123600, 568531, 904061]\n",
    "runtime_s2 = [3.56, 35.6, 165.07, 280.05]\n",
    "size_s2 = [12763, 123600, 568531, 904061]\n",
    "\n",
    "fig = plt.figure(figsize = (5, 4))\n",
    "ax = fig.add_axes([1, 1, 1, 1])\n",
    "\n",
    "ax1 = plt.plot(size_s1, runtime_s1, color='red', linewidth=3, marker='o',markersize=8, linestyle='--')\n",
    "ax2 = plt.plot(size_s2, runtime_s2, color='green', linewidth=3, marker='o',markersize=8, linestyle='--')\n",
    "\n",
    "plt.title('Runtime vs Size (lenght)')\n",
    "plt.ylabel('Run-time')\n",
    "plt.xlabel('Size')\n",
    "plt.show()"
   ]
  },
  {
   "cell_type": "markdown",
   "id": "140b5384",
   "metadata": {},
   "source": [
    "#### Interpretation"
   ]
  },
  {
   "cell_type": "markdown",
   "id": "1b2dde91",
   "metadata": {},
   "source": [
    "From the plot, I can deduce that the runtime drastically increases as the size (lenght) of the tome increases. For example, the Alice’s adventure in wonderland tome had a total of just `12763` but with the lowest run-time across board (strategies). So it's safe to assume that in relative to the lenght or size of a tome, the runtime would drastically depend on the input to a certain degree of extent as depicted in the plot and different outputs. "
   ]
  }
 ],
 "metadata": {
  "kernelspec": {
   "display_name": "Python 3 (ipykernel)",
   "language": "python",
   "name": "python3"
  },
  "language_info": {
   "codemirror_mode": {
    "name": "ipython",
    "version": 3
   },
   "file_extension": ".py",
   "mimetype": "text/x-python",
   "name": "python",
   "nbconvert_exporter": "python",
   "pygments_lexer": "ipython3",
   "version": "3.9.12"
  }
 },
 "nbformat": 4,
 "nbformat_minor": 5
}
